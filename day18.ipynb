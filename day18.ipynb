{
 "cells": [
  {
   "cell_type": "code",
   "execution_count": 1,
   "id": "f027f0b6-d16f-441d-a0cb-a252e5ef569c",
   "metadata": {},
   "outputs": [
    {
     "name": "stdout",
     "output_type": "stream",
     "text": [
      "GUESS THE NUMBER\n",
      "Guess a number between 1 and 1,000,000 and i will tell if you are correct.\n",
      "\n",
      "Let's start\n"
     ]
    },
    {
     "name": "stdin",
     "output_type": "stream",
     "text": [
      "Pick a number between 1 and 1,000,000:  15324\n"
     ]
    },
    {
     "name": "stdout",
     "output_type": "stream",
     "text": [
      "You guessed too low, try again!\n"
     ]
    },
    {
     "name": "stdin",
     "output_type": "stream",
     "text": [
      "Pick a number between 1 and 1,000,000:  963852\n"
     ]
    },
    {
     "name": "stdout",
     "output_type": "stream",
     "text": [
      "You went too high\n"
     ]
    },
    {
     "name": "stdin",
     "output_type": "stream",
     "text": [
      "Pick a number between 1 and 1,000,000:  341993\n"
     ]
    },
    {
     "name": "stdout",
     "output_type": "stream",
     "text": [
      "You got it in just  3 attempts, you are a winner!\n"
     ]
    }
   ],
   "source": [
    "print(\"GUESS THE NUMBER\")\n",
    "print(\"Guess a number between 1 and 1,000,000 and i will tell if you are correct.\")\n",
    "print()\n",
    "print(\"Let's start\")\n",
    "correct_number = 341993\n",
    "guessCount = 1\n",
    "while True:\n",
    "  guess = int(input(\"Pick a number between 1 and 1,000,000: \"))\n",
    "  if guess < 0:\n",
    "    print(\"Good Bye!....\")\n",
    "    exit()\n",
    "  elif guess < correct_number:\n",
    "    print(\"You guessed too low, try again!\")\n",
    "    guessCount += 1\n",
    "  elif guess > correct_number:\n",
    "    print(\"You went too high\")\n",
    "    guessCount += 1\n",
    "    continue\n",
    "  elif guess == correct_number:\n",
    "    print(\"You got it in just \", guessCount, \"attempts, you are a winner!\")\n",
    "    break\n",
    "  else:\n",
    "    print(\"Thats not a number I recognize, try again!\")"
   ]
  },
  {
   "cell_type": "code",
   "execution_count": null,
   "id": "d319254f-ba6a-4994-90a2-d66d67faecfb",
   "metadata": {},
   "outputs": [],
   "source": []
  }
 ],
 "metadata": {
  "kernelspec": {
   "display_name": "Python 3 (ipykernel)",
   "language": "python",
   "name": "python3"
  },
  "language_info": {
   "codemirror_mode": {
    "name": "ipython",
    "version": 3
   },
   "file_extension": ".py",
   "mimetype": "text/x-python",
   "name": "python",
   "nbconvert_exporter": "python",
   "pygments_lexer": "ipython3",
   "version": "3.12.4"
  }
 },
 "nbformat": 4,
 "nbformat_minor": 5
}
